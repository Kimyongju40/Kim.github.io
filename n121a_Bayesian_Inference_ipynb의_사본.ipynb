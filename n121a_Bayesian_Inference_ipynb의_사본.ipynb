{
  "nbformat": 4,
  "nbformat_minor": 0,
  "metadata": {
    "colab": {
      "provenance": [],
      "include_colab_link": true
    },
    "kernelspec": {
      "name": "python3",
      "display_name": "Python 3"
    },
    "language_info": {
      "name": "python"
    }
  },
  "cells": [
    {
      "cell_type": "markdown",
      "metadata": {
        "id": "view-in-github",
        "colab_type": "text"
      },
      "source": [
        "<a href=\"https://colab.research.google.com/github/Kimyongju40/Kim.github.io/blob/main/%08n121a_Bayesian_Inference_ipynb%EC%9D%98_%EC%82%AC%EB%B3%B8.ipynb\" target=\"_parent\"><img src=\"https://colab.research.google.com/assets/colab-badge.svg\" alt=\"Open In Colab\"/></a>"
      ]
    },
    {
      "cell_type": "markdown",
      "source": [
        "<img src='https://i.imgur.com/RDAD11M.png' width = '200' align = 'right'>\n",
        "\n",
        "## *DATA SCIENCE / SECTION 1 / SPRINT 2 / NOTE 1*\n",
        "\n",
        "---\n",
        "\n",
        "# 📝 Assignment\n"
      ],
      "metadata": {
        "id": "E_gVpMwF8INA"
      }
    },
    {
      "cell_type": "markdown",
      "source": [
        "# 🌱 **기본 과제**"
      ],
      "metadata": {
        "id": "T4vVuYyM9vjo"
      }
    },
    {
      "cell_type": "markdown",
      "source": [
        "## **Part 1. 전체 확률의 법칙**\n",
        "\n",
        "> 우리에게는 구부러진 동전이 있습니다. <br>\n",
        "그리고 이 동전을 던졌을 때, 앞면이 나올 확률은 **0.8** 입니다.\n",
        "\n",
        "\n"
      ],
      "metadata": {
        "id": "2FzT4GJi-EYx"
      }
    },
    {
      "cell_type": "markdown",
      "source": [
        "##### **Q1.  해당 동전을 4번 던졌을 때의 진리표를 직접 작성해보세요. 진리표를 통해, 나올 수 있는 모든 경우의 수와, 2개의 앞면이 나오는 경우의 수를 확인한 후, (`모든 경우의 수` , `2개의 앞면이 나오는 경우의 수`) 의 형태로 쓰세요.** e.g. (12, 3)"
      ],
      "metadata": {
        "id": "UM2iqE4krN7O"
      }
    },
    {
      "cell_type": "code",
      "source": [
        "import pandas as pd\n",
        "import numpy as np\n",
        "import matplotlib.pyplot as plt\n",
        "import seaborn as sns\n",
        "import math"
      ],
      "metadata": {
        "id": "ZhJhw_WeVFAd"
      },
      "execution_count": 18,
      "outputs": []
    },
    {
      "cell_type": "code",
      "source": [
        "df=pd.DataFrame([[1,1,1,1,1,1,1,1,0,0,0,0,0,0,0,0],[1,1,1,1,0,0,0,0,1,1,1,1,0,0,0,0],[1,1,0,0,1,1,0,0,1,1,0,0,1,1,0,0],[1,0,1,0,1,0,1,0,1,0,1,0,1,0,1,0]]).T\n",
        "df\n"
      ],
      "metadata": {
        "colab": {
          "base_uri": "https://localhost:8080/",
          "height": 551
        },
        "id": "GEF7dgJ3d82r",
        "outputId": "5bd06948-7f99-41ad-e034-4651f6d7964d"
      },
      "execution_count": 34,
      "outputs": [
        {
          "output_type": "execute_result",
          "data": {
            "text/plain": [
              "    0  1  2  3\n",
              "0   1  1  1  1\n",
              "1   1  1  1  0\n",
              "2   1  1  0  1\n",
              "3   1  1  0  0\n",
              "4   1  0  1  1\n",
              "5   1  0  1  0\n",
              "6   1  0  0  1\n",
              "7   1  0  0  0\n",
              "8   0  1  1  1\n",
              "9   0  1  1  0\n",
              "10  0  1  0  1\n",
              "11  0  1  0  0\n",
              "12  0  0  1  1\n",
              "13  0  0  1  0\n",
              "14  0  0  0  1\n",
              "15  0  0  0  0"
            ],
            "text/html": [
              "\n",
              "  <div id=\"df-18c7a5be-18cc-48ae-97f0-3508d48cc880\">\n",
              "    <div class=\"colab-df-container\">\n",
              "      <div>\n",
              "<style scoped>\n",
              "    .dataframe tbody tr th:only-of-type {\n",
              "        vertical-align: middle;\n",
              "    }\n",
              "\n",
              "    .dataframe tbody tr th {\n",
              "        vertical-align: top;\n",
              "    }\n",
              "\n",
              "    .dataframe thead th {\n",
              "        text-align: right;\n",
              "    }\n",
              "</style>\n",
              "<table border=\"1\" class=\"dataframe\">\n",
              "  <thead>\n",
              "    <tr style=\"text-align: right;\">\n",
              "      <th></th>\n",
              "      <th>0</th>\n",
              "      <th>1</th>\n",
              "      <th>2</th>\n",
              "      <th>3</th>\n",
              "    </tr>\n",
              "  </thead>\n",
              "  <tbody>\n",
              "    <tr>\n",
              "      <th>0</th>\n",
              "      <td>1</td>\n",
              "      <td>1</td>\n",
              "      <td>1</td>\n",
              "      <td>1</td>\n",
              "    </tr>\n",
              "    <tr>\n",
              "      <th>1</th>\n",
              "      <td>1</td>\n",
              "      <td>1</td>\n",
              "      <td>1</td>\n",
              "      <td>0</td>\n",
              "    </tr>\n",
              "    <tr>\n",
              "      <th>2</th>\n",
              "      <td>1</td>\n",
              "      <td>1</td>\n",
              "      <td>0</td>\n",
              "      <td>1</td>\n",
              "    </tr>\n",
              "    <tr>\n",
              "      <th>3</th>\n",
              "      <td>1</td>\n",
              "      <td>1</td>\n",
              "      <td>0</td>\n",
              "      <td>0</td>\n",
              "    </tr>\n",
              "    <tr>\n",
              "      <th>4</th>\n",
              "      <td>1</td>\n",
              "      <td>0</td>\n",
              "      <td>1</td>\n",
              "      <td>1</td>\n",
              "    </tr>\n",
              "    <tr>\n",
              "      <th>5</th>\n",
              "      <td>1</td>\n",
              "      <td>0</td>\n",
              "      <td>1</td>\n",
              "      <td>0</td>\n",
              "    </tr>\n",
              "    <tr>\n",
              "      <th>6</th>\n",
              "      <td>1</td>\n",
              "      <td>0</td>\n",
              "      <td>0</td>\n",
              "      <td>1</td>\n",
              "    </tr>\n",
              "    <tr>\n",
              "      <th>7</th>\n",
              "      <td>1</td>\n",
              "      <td>0</td>\n",
              "      <td>0</td>\n",
              "      <td>0</td>\n",
              "    </tr>\n",
              "    <tr>\n",
              "      <th>8</th>\n",
              "      <td>0</td>\n",
              "      <td>1</td>\n",
              "      <td>1</td>\n",
              "      <td>1</td>\n",
              "    </tr>\n",
              "    <tr>\n",
              "      <th>9</th>\n",
              "      <td>0</td>\n",
              "      <td>1</td>\n",
              "      <td>1</td>\n",
              "      <td>0</td>\n",
              "    </tr>\n",
              "    <tr>\n",
              "      <th>10</th>\n",
              "      <td>0</td>\n",
              "      <td>1</td>\n",
              "      <td>0</td>\n",
              "      <td>1</td>\n",
              "    </tr>\n",
              "    <tr>\n",
              "      <th>11</th>\n",
              "      <td>0</td>\n",
              "      <td>1</td>\n",
              "      <td>0</td>\n",
              "      <td>0</td>\n",
              "    </tr>\n",
              "    <tr>\n",
              "      <th>12</th>\n",
              "      <td>0</td>\n",
              "      <td>0</td>\n",
              "      <td>1</td>\n",
              "      <td>1</td>\n",
              "    </tr>\n",
              "    <tr>\n",
              "      <th>13</th>\n",
              "      <td>0</td>\n",
              "      <td>0</td>\n",
              "      <td>1</td>\n",
              "      <td>0</td>\n",
              "    </tr>\n",
              "    <tr>\n",
              "      <th>14</th>\n",
              "      <td>0</td>\n",
              "      <td>0</td>\n",
              "      <td>0</td>\n",
              "      <td>1</td>\n",
              "    </tr>\n",
              "    <tr>\n",
              "      <th>15</th>\n",
              "      <td>0</td>\n",
              "      <td>0</td>\n",
              "      <td>0</td>\n",
              "      <td>0</td>\n",
              "    </tr>\n",
              "  </tbody>\n",
              "</table>\n",
              "</div>\n",
              "      <button class=\"colab-df-convert\" onclick=\"convertToInteractive('df-18c7a5be-18cc-48ae-97f0-3508d48cc880')\"\n",
              "              title=\"Convert this dataframe to an interactive table.\"\n",
              "              style=\"display:none;\">\n",
              "        \n",
              "  <svg xmlns=\"http://www.w3.org/2000/svg\" height=\"24px\"viewBox=\"0 0 24 24\"\n",
              "       width=\"24px\">\n",
              "    <path d=\"M0 0h24v24H0V0z\" fill=\"none\"/>\n",
              "    <path d=\"M18.56 5.44l.94 2.06.94-2.06 2.06-.94-2.06-.94-.94-2.06-.94 2.06-2.06.94zm-11 1L8.5 8.5l.94-2.06 2.06-.94-2.06-.94L8.5 2.5l-.94 2.06-2.06.94zm10 10l.94 2.06.94-2.06 2.06-.94-2.06-.94-.94-2.06-.94 2.06-2.06.94z\"/><path d=\"M17.41 7.96l-1.37-1.37c-.4-.4-.92-.59-1.43-.59-.52 0-1.04.2-1.43.59L10.3 9.45l-7.72 7.72c-.78.78-.78 2.05 0 2.83L4 21.41c.39.39.9.59 1.41.59.51 0 1.02-.2 1.41-.59l7.78-7.78 2.81-2.81c.8-.78.8-2.07 0-2.86zM5.41 20L4 18.59l7.72-7.72 1.47 1.35L5.41 20z\"/>\n",
              "  </svg>\n",
              "      </button>\n",
              "      \n",
              "  <style>\n",
              "    .colab-df-container {\n",
              "      display:flex;\n",
              "      flex-wrap:wrap;\n",
              "      gap: 12px;\n",
              "    }\n",
              "\n",
              "    .colab-df-convert {\n",
              "      background-color: #E8F0FE;\n",
              "      border: none;\n",
              "      border-radius: 50%;\n",
              "      cursor: pointer;\n",
              "      display: none;\n",
              "      fill: #1967D2;\n",
              "      height: 32px;\n",
              "      padding: 0 0 0 0;\n",
              "      width: 32px;\n",
              "    }\n",
              "\n",
              "    .colab-df-convert:hover {\n",
              "      background-color: #E2EBFA;\n",
              "      box-shadow: 0px 1px 2px rgba(60, 64, 67, 0.3), 0px 1px 3px 1px rgba(60, 64, 67, 0.15);\n",
              "      fill: #174EA6;\n",
              "    }\n",
              "\n",
              "    [theme=dark] .colab-df-convert {\n",
              "      background-color: #3B4455;\n",
              "      fill: #D2E3FC;\n",
              "    }\n",
              "\n",
              "    [theme=dark] .colab-df-convert:hover {\n",
              "      background-color: #434B5C;\n",
              "      box-shadow: 0px 1px 3px 1px rgba(0, 0, 0, 0.15);\n",
              "      filter: drop-shadow(0px 1px 2px rgba(0, 0, 0, 0.3));\n",
              "      fill: #FFFFFF;\n",
              "    }\n",
              "  </style>\n",
              "\n",
              "      <script>\n",
              "        const buttonEl =\n",
              "          document.querySelector('#df-18c7a5be-18cc-48ae-97f0-3508d48cc880 button.colab-df-convert');\n",
              "        buttonEl.style.display =\n",
              "          google.colab.kernel.accessAllowed ? 'block' : 'none';\n",
              "\n",
              "        async function convertToInteractive(key) {\n",
              "          const element = document.querySelector('#df-18c7a5be-18cc-48ae-97f0-3508d48cc880');\n",
              "          const dataTable =\n",
              "            await google.colab.kernel.invokeFunction('convertToInteractive',\n",
              "                                                     [key], {});\n",
              "          if (!dataTable) return;\n",
              "\n",
              "          const docLinkHtml = 'Like what you see? Visit the ' +\n",
              "            '<a target=\"_blank\" href=https://colab.research.google.com/notebooks/data_table.ipynb>data table notebook</a>'\n",
              "            + ' to learn more about interactive tables.';\n",
              "          element.innerHTML = '';\n",
              "          dataTable['output_type'] = 'display_data';\n",
              "          await google.colab.output.renderOutput(dataTable, element);\n",
              "          const docLink = document.createElement('div');\n",
              "          docLink.innerHTML = docLinkHtml;\n",
              "          element.appendChild(docLink);\n",
              "        }\n",
              "      </script>\n",
              "    </div>\n",
              "  </div>\n",
              "  "
            ]
          },
          "metadata": {},
          "execution_count": 34
        }
      ]
    },
    {
      "cell_type": "markdown",
      "source": [
        "## **Part 2. 이항 분포**\n",
        "\n",
        "앞서 진행한 것 처럼 모든 경우에 대한 진리표에서 특정 경우의 수를 확인할수도 있지만, 이는 경우의 수가 증가함에 따라 매우 비효율적인 방법입니다.\n",
        "\n",
        "따라서 이항분포의 formula를 활용하여 우리가 찾고자 하는 경우의 수를 확인해보도록 하겠습니다.\n",
        "\n",
        "<br>\n",
        "\n",
        "> 1번 문제와 마찬가지로 우리에게 주어진 동전은 구부러져있으며, 앞면이 나올 확률은 **0.8** 입니다.\n",
        "\n",
        "\n",
        "\n",
        "\n"
      ],
      "metadata": {
        "id": "HxC5medb-MdL"
      }
    },
    {
      "cell_type": "markdown",
      "source": [
        "##### **Q2. 해당 동전을 16번 던졌을 때, 8개의 앞면이 나올 확률을 반올림하여 소수점 셋째 자리까지 구하세요.**\n",
        "\n",
        "\n",
        "\n",
        "\n",
        "- `math` 라이브러리의 [`factorial`](https://www.geeksforgeeks.org/python-math-factorial-function/)을 활용해보세요."
      ],
      "metadata": {
        "id": "dQAdOZLbrRHZ"
      }
    },
    {
      "cell_type": "code",
      "source": [
        "problist = []\n",
        "\n",
        "for i in range(17):\n",
        "  res = math.factorial(16) / (math.factorial(i) * math.factorial(16 - i))\n",
        "  problist.append(res / 2**16)\n",
        "\n",
        "df = pd.DataFrame({'p' : problist})\n",
        "\n",
        "x = np.arange(0,17)\n",
        "plt.bar(x, 'p', data=df)\n",
        "plt.xlabel('Number of Heads')\n",
        "plt.ylabel('Probability')\n",
        "plt.title('Binomial Distribution of 16 Times Coin Flip')\n",
        "plt.xticks(x);"
      ],
      "metadata": {
        "id": "uNiLgwMmF8jz",
        "colab": {
          "base_uri": "https://localhost:8080/",
          "height": 295
        },
        "outputId": "642ae841-a659-4c3a-e51b-679ddc3f7704"
      },
      "execution_count": 20,
      "outputs": [
        {
          "output_type": "display_data",
          "data": {
            "text/plain": [
              "<Figure size 432x288 with 1 Axes>"
            ],
            "image/png": "[encoded data removed]"
          },
          "metadata": {
            "needs_background": "light"
          }
        }
      ]
    },
    {
      "cell_type": "code",
      "source": [
        "#다음과 같이 이항분포 formula를 구현할 수 있습니다.\n",
        "\n",
        "n=16\n",
        "k=8\n",
        "p=0.8\n",
        "\n",
        "round((math.factorial(n) / (math.factorial(k) * math.factorial(n-k))) * (p**k) * ((1-p)**(n-k)),3)"
      ],
      "metadata": {
        "colab": {
          "base_uri": "https://localhost:8080/"
        },
        "id": "IGrpIzKlz0Vi",
        "outputId": "2963b5bf-f623-4fd1-9250-57b8d976313f"
      },
      "execution_count": 21,
      "outputs": [
        {
          "output_type": "execute_result",
          "data": {
            "text/plain": [
              "0.006"
            ]
          },
          "metadata": {},
          "execution_count": 21
        }
      ]
    },
    {
      "cell_type": "markdown",
      "source": [
        "## **Part 3. 조건부 확률**\n",
        "\n",
        "> 여러분은 A 학원 사이트의 로그 데이터를 확인하고 있습니다. 초기 등록자는 40명이었지만, 해당 학원에 최종적으로 등록한 학생 수와 등록하지 않은 학생 수는 다음과 같습니다. \n",
        "\n",
        "|구분| 최종 등록 | 등록 포기 |\n",
        "|:-:|:-------:|:-------:|\n",
        "|국어|10|5|\n",
        "|수학|15|10|\n",
        "\n",
        "\n"
      ],
      "metadata": {
        "id": "xr7e5rah-OKB"
      }
    },
    {
      "cell_type": "markdown",
      "source": [
        "##### **Q3. 초기 등록자 중 임의로 선택한 한 명이 최종 등록한 학생이었을 때, 그 학생이 수학 과목에 등록했을 확률을 구하세요.**"
      ],
      "metadata": {
        "id": "eSScNs7or9AZ"
      }
    },
    {
      "cell_type": "code",
      "source": [
        "#조건부 확률로 계산합니다.\n",
        "\n",
        "# 최종 등록한 학생일 확률\n",
        "enroll = (10 + 15) / 40\n",
        "# 수학 과목에 최종 등록한 학생일 확률\n",
        "math = 15 / 40\n",
        "\n",
        "math / enroll"
      ],
      "metadata": {
        "id": "crp7GAEFcX5p",
        "colab": {
          "base_uri": "https://localhost:8080/"
        },
        "outputId": "a2ed3909-9fe9-4377-a9ad-76ead98f2a8d"
      },
      "execution_count": 1,
      "outputs": [
        {
          "output_type": "execute_result",
          "data": {
            "text/plain": [
              "0.6"
            ]
          },
          "metadata": {},
          "execution_count": 1
        }
      ]
    },
    {
      "cell_type": "markdown",
      "source": [
        "## **Part 4. 베이지안 추론**"
      ],
      "metadata": {
        "id": "2T_-4guR-P-h"
      }
    },
    {
      "cell_type": "markdown",
      "source": [
        "### **4-1. Exam Answer**\n",
        "\n",
        "> 오지선다 문제를 푸는 과정에서, 학생은 답을 이미 알고 있거나 찍어야 합니다. \n",
        "> \n",
        "> 학생이 답을 알 확률은 **0.3**이고, 답을 찍어서 맞출 확률은 **0.2**이며, 문제의 답을 알고있다면 반드시 맞춘다고 가정합니다.\n",
        "\n"
      ],
      "metadata": {
        "id": "SwWIyBcSQbfv"
      }
    },
    {
      "cell_type": "markdown",
      "source": [
        "##### **Q4. 학생이 문제의 답을 맞췄을 때, 답을 알고 있었을 확률을 반올림하여 소수점 둘째 자리까지 구하세요.** "
      ],
      "metadata": {
        "id": "tDJJFhL_sp2l"
      }
    },
    {
      "cell_type": "code",
      "source": [
        "#사전확률은 학생이 답을 알 확률 0.3입니다.\n",
        "#우리가 알고 있는 데이터는 답을 찍었을 때 맞출 확률 0.2와 문제의 답을 알고 있을 때 맞을 확률 1입니다.\n",
        "#이를 바탕으로 다음과 같이 사후확률을 계산할 수 있습니다.\n",
        "\n",
        "# 사전확률\n",
        "know = 0.3\n",
        "dontknow = 0.7\n",
        "\n",
        "# evidence\n",
        "correct_dontknow = 0.2\n",
        "correct_know = 1\n",
        "\n",
        "# 사후확률\n",
        "round((correct_know * know) / ((correct_know * know) + (correct_dontknow * dontknow)),2)"
      ],
      "metadata": {
        "id": "gsEl0EXeQxGs",
        "colab": {
          "base_uri": "https://localhost:8080/"
        },
        "outputId": "553f82ad-2a6d-40b8-a026-5f5d02496f22"
      },
      "execution_count": 3,
      "outputs": [
        {
          "output_type": "execute_result",
          "data": {
            "text/plain": [
              "0.68"
            ]
          },
          "metadata": {},
          "execution_count": 3
        }
      ]
    },
    {
      "cell_type": "markdown",
      "source": [
        "### **4-2. Disease Detection**\n",
        "\n",
        "> 특정 질병을 가지고 있는 경우 **`tpr`** 의 확률로 탐지할 수 있는 실험 방법이 있습니다.\n",
        "> \n",
        "> 그러나 동시에 이 방법은 **`fpr`** 의 확률로 질병이 없지만 질병이 있다고 진단하는 경우도 있는데요.\n",
        "> \n",
        "> 실제로 모든 인구 중 이 질병을 가지고 있을 확률은 **`\bprior`** 입니다."
      ],
      "metadata": {
        "id": "a3p6hGnhQqma"
      }
    },
    {
      "cell_type": "markdown",
      "source": [
        "##### **Q5. 특정 사람이 이 방법을 통해 질병이 있다고 진단받았을 때, 실제로 질병을 가지고 있을 확률을 구하는 함수를 완성한 후 `tpr=0.9`, `fpr=0.01`, `prior=0.1` 일 때의 결과값(`posterior`)을 반올림하여 소수점 둘째 자리까지 구하세요.**"
      ],
      "metadata": {
        "id": "GHO2le97sxAb"
      }
    },
    {
      "cell_type": "code",
      "execution_count": 7,
      "metadata": {
        "id": "1ZgvQaQc78n5",
        "colab": {
          "base_uri": "https://localhost:8080/"
        },
        "outputId": "fa8d54ab-e3c4-4342-a33c-c1c02ece111c"
      },
      "outputs": [
        {
          "output_type": "execute_result",
          "data": {
            "text/plain": [
              "0.91"
            ]
          },
          "metadata": {},
          "execution_count": 7
        }
      ],
      "source": [
        "#사전확률과 데이터를 바탕으로 사용자 정의 함수 disease_test(tpr, fpr, prior)를 완성하세요.\n",
        "\n",
        "# 사전확률\n",
        "tpr=0.9\n",
        "fpr=0.01\n",
        "prior=0.1\n",
        "\n",
        "disease = prior\n",
        "healthy = 1 - prior\n",
        "\n",
        "# evidence\n",
        "pos_disease = tpr\n",
        "pos_healthy = fpr\n",
        "\n",
        "# 사후확률\n",
        "posterior = (pos_disease * disease) / ((pos_disease * disease) + (pos_healthy * healthy))\n",
        "round(posterior,2)"
      ]
    },
    {
      "cell_type": "markdown",
      "source": [
        "### **4-3. \b\bGuilty or Not**\n",
        "\n",
        "> 한 범죄사건의 용의자가 유죄일 확률은 **60%**라고 형사는 확신하고 있습니다.\n",
        "> \n",
        "> 그 후 **해당 사건의 범인이 왼손잡이**라는 증거가 발견되었고, 용의자는 왼손잡이 입니다. **전체 인구의 20%**가 이 특성(왼손잡이)을 가지고 있습니다.\n",
        "\n",
        "\n",
        "\n"
      ],
      "metadata": {
        "id": "iVDrfMirvVUn"
      }
    },
    {
      "cell_type": "markdown",
      "source": [
        "##### **Q6. 증거가 발견된 후, 이제 형사는 용의자가 유죄일 확률을 얼마로 확신하고 있는지 반올림하여 소수점 둘째자리까지 구하세요.**"
      ],
      "metadata": {
        "id": "NWHi0gZAs5dm"
      }
    },
    {
      "cell_type": "code",
      "source": [
        "#사전확률은 형사가 확신하고 있는 용의자가 유죄일 확률 0.6,\n",
        "#우리가 알고 있는 데이터는 범인이 왼손잡이일 확률 1, 전체 인구에 대한 왼손잡이의 비율 0.2입니다.\n",
        "#이를 바탕으로 다음과 같이 사후확률을 계산할 수 있습니다.\n",
        "\n",
        "# 사전확률\n",
        "guilty = 0.6\n",
        "notguilty = 0.4\n",
        "\n",
        "# evidence\n",
        "left_notguilty = 0.2\n",
        "left_guilty = 1\n",
        "\n",
        "# 사후확률\n",
        "p=(left_guilty * guilty) / ((left_guilty * guilty) + (left_notguilty * notguilty))\n",
        "round(p,2)"
      ],
      "metadata": {
        "id": "t2vBbDKoyoqq",
        "colab": {
          "base_uri": "https://localhost:8080/"
        },
        "outputId": "276d7a55-4eba-4ea9-bbd2-0b1d27a3125c"
      },
      "execution_count": 9,
      "outputs": [
        {
          "output_type": "execute_result",
          "data": {
            "text/plain": [
              "0.88"
            ]
          },
          "metadata": {},
          "execution_count": 9
        }
      ]
    },
    {
      "cell_type": "markdown",
      "source": [
        "# 🥇 **도전 과제**\n",
        "\n"
      ],
      "metadata": {
        "id": "vAnvY4cXWrnk"
      }
    },
    {
      "cell_type": "markdown",
      "source": [
        "## **Part 5. 이항분포**\n",
        "\n",
        "Scipy의 Stats 라이브러리의 [binomial 메서드](https://docs.scipy.org/doc/scipy-0.14.0/reference/generated/scipy.stats.binom.html)를 참고하여, 앞면이 나올 확률이 **0.75**인 구부러진 동전을 100번 던졌을 때, 35번 앞면이 나올 확률을 구해보세요."
      ],
      "metadata": {
        "id": "My5EBKYkCvHO"
      }
    },
    {
      "cell_type": "code",
      "source": [
        "# 이곳에 코드를 작성하세요."
      ],
      "metadata": {
        "id": "mkBZOfjnD8un"
      },
      "execution_count": 26,
      "outputs": []
    },
    {
      "cell_type": "markdown",
      "source": [
        "## **Part 6. 몬티홀 문제**\n",
        "\n",
        "\n",
        "다음 [영상](https://www.youtube.com/watch?v=UexhMS_F5Qw)에서 등장하는 몬티홀 딜레마 문제를 베이지안 공식을 활용하여 해결해보세요.\n",
        "\n",
        "- 처음에 1번 문을 선택했다고 가정합니다. 진행자가 남은 두 개의 문 중 염소가 있는 문 하나를 공개한 상태에서 기존에 선택했던 문(1번문)에 자동차가 있을 확률을 구하세요. \n",
        "\n",
        "- 처음 선택을 유지하는 것이 유리한\b지, 아니면 선택을 바꾸는 것이 유리한지 생각해보세요."
      ],
      "metadata": {
        "id": "X4tgBbitCp7-"
      }
    },
    {
      "cell_type": "markdown",
      "source": [
        "```\n",
        "Hypothesis: 1번 문 뒤에 자동차가 있음\n",
        "Evidence: 진행자가 염소가 있는 문을 열어줌\n",
        "\n",
        "우리가 알고자 하는 것: P(H|E) -> 진행자가 염소가 있는 문을 열었을 때, 우리가 먼저 선택했던 문 안에 자동차가 있을 확률\n",
        "```\n"
      ],
      "metadata": {
        "id": "ZtAxlmteTOvj"
      }
    },
    {
      "cell_type": "code",
      "source": [
        "# 이곳에 코드를 작성하세요."
      ],
      "metadata": {
        "id": "NUau-7vXW6ZR"
      },
      "execution_count": 27,
      "outputs": []
    }
  ]
}