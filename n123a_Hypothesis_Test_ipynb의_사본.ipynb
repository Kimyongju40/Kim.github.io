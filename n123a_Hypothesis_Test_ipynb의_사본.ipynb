{
  "cells": [
    {
      "cell_type": "markdown",
      "metadata": {
        "id": "view-in-github",
        "colab_type": "text"
      },
      "source": [
        "<a href=\"https://colab.research.google.com/github/Kimyongju40/Kim.github.io/blob/main/n123a_Hypothesis_Test_ipynb%EC%9D%98_%EC%82%AC%EB%B3%B8.ipynb\" target=\"_parent\"><img src=\"https://colab.research.google.com/assets/colab-badge.svg\" alt=\"Open In Colab\"/></a>"
      ]
    },
    {
      "cell_type": "markdown",
      "source": [
        "<img src='https://user-images.githubusercontent.com/6457691/89746244-a6e2a200-daf3-11ea-9314-7863d544d73c.png' width = '200' align = 'right'>\n",
        "\n",
        "## *DATA SCIENCE / SECTION 1 / SPRINT 2 / NOTE 3*\n",
        "\n",
        "---\n",
        "\n",
        "# 📝 Assignment"
      ],
      "metadata": {
        "id": "4xK3p5j6xuwx"
      }
    },
    {
      "cell_type": "markdown",
      "source": [
        "# **🌱 기본 과제**\n",
        "\n",
        "오늘 lecture note에서는 두 집단의 평균을 비교하는 가설 검정 과정을 부트스트래핑을 이용해 표본 평균 분포를 구현하여 통계적 유의미함을 살펴보았습니다. \n",
        "\n",
        "**T-test** 메소드에는 이러한 과정이 built-in 되어있기 때문에 우리는 동일한 계산을 **T-test** 메소드를 통해 간단히 구현해 볼 수 있습니다. "
      ],
      "metadata": {
        "id": "iuXghyPoH2oo"
      }
    },
    {
      "cell_type": "markdown",
      "source": [
        "## **Part 1. One-Sample T-test** \n",
        "한 샘플의 평균값과 특정값(모수)을 비교하는 검정 방법입니다. <br>\n",
        "이를 양측검정을 통해 시행하고자 한다면 귀무가설과 대립가설은 다음과 같이 세울 수 있습니다. \n",
        "\n",
        "$H_0$ : $\\mu_{sample} = \\mu_{population}$\n",
        "\n",
        "$H_a$ : $\\mu_{sample} ≠ \\mu_{population}$ "
      ],
      "metadata": {
        "id": "lp0vFCqdxuwy"
      }
    },
    {
      "cell_type": "markdown",
      "source": [
        "### **1-1. 데이터셋 준비**\n",
        "- 다음 데이터셋을 불러옵니다. <br>\n",
        "  https://ds-lecture-data.s3.ap-northeast-2.amazonaws.com/seoul_tree/seoul_tree.txt\n",
        "  - 데이터는 `tap`으로 구분되어 있습니다. \n",
        "  - `skiprows=1`로 설정하여 첫 번째 row가 헤더가 되도록 지정합니다. \n",
        "- `자치구`가 `서울시`, `공원녹지사업소`, `시설관리공단`인 데이터는 제외합니다. \n",
        "- `이팝나무` column만 추출하여 `df_sub`에 저장하세요. \n",
        "  - `df_sub`은 Series 형태입니다. \n",
        "- `df_sub`의 index를 재설정 하세요. "
      ],
      "metadata": {
        "id": "W0AtIiP3__0r"
      }
    },
    {
      "cell_type": "code",
      "source": [
        "import pandas as pd\n",
        "import numpy as np\n",
        "import matplotlib.pyplot as plt\n",
        "import seaborn as sns"
      ],
      "metadata": {
        "id": "4s-URzXg1k2M"
      },
      "execution_count": 50,
      "outputs": []
    },
    {
      "cell_type": "code",
      "source": [
        "df= pd.read_csv('https://ds-lecture-data.s3.ap-northeast-2.amazonaws.com/seoul_tree/seoul_tree.txt',sep='\\t', skiprows=1)\n",
        "df.head()"
      ],
      "metadata": {
        "colab": {
          "base_uri": "https://localhost:8080/",
          "height": 236
        },
        "id": "D5zTLThS1rbq",
        "outputId": "ad09404a-618e-44dc-9e51-454bbc85cee6"
      },
      "execution_count": 30,
      "outputs": [
        {
          "output_type": "execute_result",
          "data": {
            "text/plain": [
              "     기간  자치구    노선수       수량     은행나무   양버즘나무    느티나무    왕벚나무 은단풍나무 메타세콰이어  \\\n",
              "0  2019  서울시  1,412  307,351  108,050  62,474  37,473  34,150   545  5,171   \n",
              "1  2019  종로구     70    7,329    4,072   1,071     619     421     -      1   \n",
              "2  2019   중구     48    8,250    3,640     162     460     289     -      -   \n",
              "3  2019  용산구     39    7,835    4,444   1,422     373     262     -      -   \n",
              "4  2019  성동구     38    8,120    1,090   2,401   1,975     602    29     48   \n",
              "\n",
              "   ... 튜울립나무    칠엽수 포플러 느릅나무 살구나무    무궁화    소나무   목련    이팝나무      기타  \n",
              "0  ...   948  1,533   7  504  234  2,374  4,539  378  20,088  20,112  \n",
              "1  ...     -     17   -    -    -      -    239    -     711      29  \n",
              "2  ...     7      -   -    -   21     46  2,162    -     470     817  \n",
              "3  ...    13     16   -    -   39      -     51  126     198     780  \n",
              "4  ...     -      1   3   59    -      -     53    -     709     646  \n",
              "\n",
              "[5 rows x 24 columns]"
            ],
            "text/html": [
              "\n",
              "  <div id=\"df-eaedc9a4-93fe-4b83-9f1a-b4e8adb7a4ae\">\n",
              "    <div class=\"colab-df-container\">\n",
              "      <div>\n",
              "<style scoped>\n",
              "    .dataframe tbody tr th:only-of-type {\n",
              "        vertical-align: middle;\n",
              "    }\n",
              "\n",
              "    .dataframe tbody tr th {\n",
              "        vertical-align: top;\n",
              "    }\n",
              "\n",
              "    .dataframe thead th {\n",
              "        text-align: right;\n",
              "    }\n",
              "</style>\n",
              "<table border=\"1\" class=\"dataframe\">\n",
              "  <thead>\n",
              "    <tr style=\"text-align: right;\">\n",
              "      <th></th>\n",
              "      <th>기간</th>\n",
              "      <th>자치구</th>\n",
              "      <th>노선수</th>\n",
              "      <th>수량</th>\n",
              "      <th>은행나무</th>\n",
              "      <th>양버즘나무</th>\n",
              "      <th>느티나무</th>\n",
              "      <th>왕벚나무</th>\n",
              "      <th>은단풍나무</th>\n",
              "      <th>메타세콰이어</th>\n",
              "      <th>...</th>\n",
              "      <th>튜울립나무</th>\n",
              "      <th>칠엽수</th>\n",
              "      <th>포플러</th>\n",
              "      <th>느릅나무</th>\n",
              "      <th>살구나무</th>\n",
              "      <th>무궁화</th>\n",
              "      <th>소나무</th>\n",
              "      <th>목련</th>\n",
              "      <th>이팝나무</th>\n",
              "      <th>기타</th>\n",
              "    </tr>\n",
              "  </thead>\n",
              "  <tbody>\n",
              "    <tr>\n",
              "      <th>0</th>\n",
              "      <td>2019</td>\n",
              "      <td>서울시</td>\n",
              "      <td>1,412</td>\n",
              "      <td>307,351</td>\n",
              "      <td>108,050</td>\n",
              "      <td>62,474</td>\n",
              "      <td>37,473</td>\n",
              "      <td>34,150</td>\n",
              "      <td>545</td>\n",
              "      <td>5,171</td>\n",
              "      <td>...</td>\n",
              "      <td>948</td>\n",
              "      <td>1,533</td>\n",
              "      <td>7</td>\n",
              "      <td>504</td>\n",
              "      <td>234</td>\n",
              "      <td>2,374</td>\n",
              "      <td>4,539</td>\n",
              "      <td>378</td>\n",
              "      <td>20,088</td>\n",
              "      <td>20,112</td>\n",
              "    </tr>\n",
              "    <tr>\n",
              "      <th>1</th>\n",
              "      <td>2019</td>\n",
              "      <td>종로구</td>\n",
              "      <td>70</td>\n",
              "      <td>7,329</td>\n",
              "      <td>4,072</td>\n",
              "      <td>1,071</td>\n",
              "      <td>619</td>\n",
              "      <td>421</td>\n",
              "      <td>-</td>\n",
              "      <td>1</td>\n",
              "      <td>...</td>\n",
              "      <td>-</td>\n",
              "      <td>17</td>\n",
              "      <td>-</td>\n",
              "      <td>-</td>\n",
              "      <td>-</td>\n",
              "      <td>-</td>\n",
              "      <td>239</td>\n",
              "      <td>-</td>\n",
              "      <td>711</td>\n",
              "      <td>29</td>\n",
              "    </tr>\n",
              "    <tr>\n",
              "      <th>2</th>\n",
              "      <td>2019</td>\n",
              "      <td>중구</td>\n",
              "      <td>48</td>\n",
              "      <td>8,250</td>\n",
              "      <td>3,640</td>\n",
              "      <td>162</td>\n",
              "      <td>460</td>\n",
              "      <td>289</td>\n",
              "      <td>-</td>\n",
              "      <td>-</td>\n",
              "      <td>...</td>\n",
              "      <td>7</td>\n",
              "      <td>-</td>\n",
              "      <td>-</td>\n",
              "      <td>-</td>\n",
              "      <td>21</td>\n",
              "      <td>46</td>\n",
              "      <td>2,162</td>\n",
              "      <td>-</td>\n",
              "      <td>470</td>\n",
              "      <td>817</td>\n",
              "    </tr>\n",
              "    <tr>\n",
              "      <th>3</th>\n",
              "      <td>2019</td>\n",
              "      <td>용산구</td>\n",
              "      <td>39</td>\n",
              "      <td>7,835</td>\n",
              "      <td>4,444</td>\n",
              "      <td>1,422</td>\n",
              "      <td>373</td>\n",
              "      <td>262</td>\n",
              "      <td>-</td>\n",
              "      <td>-</td>\n",
              "      <td>...</td>\n",
              "      <td>13</td>\n",
              "      <td>16</td>\n",
              "      <td>-</td>\n",
              "      <td>-</td>\n",
              "      <td>39</td>\n",
              "      <td>-</td>\n",
              "      <td>51</td>\n",
              "      <td>126</td>\n",
              "      <td>198</td>\n",
              "      <td>780</td>\n",
              "    </tr>\n",
              "    <tr>\n",
              "      <th>4</th>\n",
              "      <td>2019</td>\n",
              "      <td>성동구</td>\n",
              "      <td>38</td>\n",
              "      <td>8,120</td>\n",
              "      <td>1,090</td>\n",
              "      <td>2,401</td>\n",
              "      <td>1,975</td>\n",
              "      <td>602</td>\n",
              "      <td>29</td>\n",
              "      <td>48</td>\n",
              "      <td>...</td>\n",
              "      <td>-</td>\n",
              "      <td>1</td>\n",
              "      <td>3</td>\n",
              "      <td>59</td>\n",
              "      <td>-</td>\n",
              "      <td>-</td>\n",
              "      <td>53</td>\n",
              "      <td>-</td>\n",
              "      <td>709</td>\n",
              "      <td>646</td>\n",
              "    </tr>\n",
              "  </tbody>\n",
              "</table>\n",
              "<p>5 rows × 24 columns</p>\n",
              "</div>\n",
              "      <button class=\"colab-df-convert\" onclick=\"convertToInteractive('df-eaedc9a4-93fe-4b83-9f1a-b4e8adb7a4ae')\"\n",
              "              title=\"Convert this dataframe to an interactive table.\"\n",
              "              style=\"display:none;\">\n",
              "        \n",
              "  <svg xmlns=\"http://www.w3.org/2000/svg\" height=\"24px\"viewBox=\"0 0 24 24\"\n",
              "       width=\"24px\">\n",
              "    <path d=\"M0 0h24v24H0V0z\" fill=\"none\"/>\n",
              "    <path d=\"M18.56 5.44l.94 2.06.94-2.06 2.06-.94-2.06-.94-.94-2.06-.94 2.06-2.06.94zm-11 1L8.5 8.5l.94-2.06 2.06-.94-2.06-.94L8.5 2.5l-.94 2.06-2.06.94zm10 10l.94 2.06.94-2.06 2.06-.94-2.06-.94-.94-2.06-.94 2.06-2.06.94z\"/><path d=\"M17.41 7.96l-1.37-1.37c-.4-.4-.92-.59-1.43-.59-.52 0-1.04.2-1.43.59L10.3 9.45l-7.72 7.72c-.78.78-.78 2.05 0 2.83L4 21.41c.39.39.9.59 1.41.59.51 0 1.02-.2 1.41-.59l7.78-7.78 2.81-2.81c.8-.78.8-2.07 0-2.86zM5.41 20L4 18.59l7.72-7.72 1.47 1.35L5.41 20z\"/>\n",
              "  </svg>\n",
              "      </button>\n",
              "      \n",
              "  <style>\n",
              "    .colab-df-container {\n",
              "      display:flex;\n",
              "      flex-wrap:wrap;\n",
              "      gap: 12px;\n",
              "    }\n",
              "\n",
              "    .colab-df-convert {\n",
              "      background-color: #E8F0FE;\n",
              "      border: none;\n",
              "      border-radius: 50%;\n",
              "      cursor: pointer;\n",
              "      display: none;\n",
              "      fill: #1967D2;\n",
              "      height: 32px;\n",
              "      padding: 0 0 0 0;\n",
              "      width: 32px;\n",
              "    }\n",
              "\n",
              "    .colab-df-convert:hover {\n",
              "      background-color: #E2EBFA;\n",
              "      box-shadow: 0px 1px 2px rgba(60, 64, 67, 0.3), 0px 1px 3px 1px rgba(60, 64, 67, 0.15);\n",
              "      fill: #174EA6;\n",
              "    }\n",
              "\n",
              "    [theme=dark] .colab-df-convert {\n",
              "      background-color: #3B4455;\n",
              "      fill: #D2E3FC;\n",
              "    }\n",
              "\n",
              "    [theme=dark] .colab-df-convert:hover {\n",
              "      background-color: #434B5C;\n",
              "      box-shadow: 0px 1px 3px 1px rgba(0, 0, 0, 0.15);\n",
              "      filter: drop-shadow(0px 1px 2px rgba(0, 0, 0, 0.3));\n",
              "      fill: #FFFFFF;\n",
              "    }\n",
              "  </style>\n",
              "\n",
              "      <script>\n",
              "        const buttonEl =\n",
              "          document.querySelector('#df-eaedc9a4-93fe-4b83-9f1a-b4e8adb7a4ae button.colab-df-convert');\n",
              "        buttonEl.style.display =\n",
              "          google.colab.kernel.accessAllowed ? 'block' : 'none';\n",
              "\n",
              "        async function convertToInteractive(key) {\n",
              "          const element = document.querySelector('#df-eaedc9a4-93fe-4b83-9f1a-b4e8adb7a4ae');\n",
              "          const dataTable =\n",
              "            await google.colab.kernel.invokeFunction('convertToInteractive',\n",
              "                                                     [key], {});\n",
              "          if (!dataTable) return;\n",
              "\n",
              "          const docLinkHtml = 'Like what you see? Visit the ' +\n",
              "            '<a target=\"_blank\" href=https://colab.research.google.com/notebooks/data_table.ipynb>data table notebook</a>'\n",
              "            + ' to learn more about interactive tables.';\n",
              "          element.innerHTML = '';\n",
              "          dataTable['output_type'] = 'display_data';\n",
              "          await google.colab.output.renderOutput(dataTable, element);\n",
              "          const docLink = document.createElement('div');\n",
              "          docLink.innerHTML = docLinkHtml;\n",
              "          element.appendChild(docLink);\n",
              "        }\n",
              "      </script>\n",
              "    </div>\n",
              "  </div>\n",
              "  "
            ]
          },
          "metadata": {},
          "execution_count": 30
        }
      ]
    },
    {
      "cell_type": "code",
      "source": [
        "df_sub = df.query(\"자치구 not in ['서울시', '공원녹지사업소', '시설관리공단']\")[\"이팝나무\"].reset_index(drop=True)\n",
        "df_sub"
      ],
      "metadata": {
        "colab": {
          "base_uri": "https://localhost:8080/"
        },
        "id": "LNO6luhHUtWM",
        "outputId": "3d58ecb6-7ae5-4040-9fa5-55c134170018"
      },
      "execution_count": 38,
      "outputs": [
        {
          "output_type": "execute_result",
          "data": {
            "text/plain": [
              "0       711\n",
              "1       470\n",
              "2       198\n",
              "3       709\n",
              "4       760\n",
              "5     1,176\n",
              "6       449\n",
              "7       853\n",
              "8       575\n",
              "9        47\n",
              "10      142\n",
              "11      443\n",
              "12      493\n",
              "13    1,280\n",
              "14      784\n",
              "15    1,426\n",
              "16    1,082\n",
              "17      184\n",
              "18    1,281\n",
              "19      397\n",
              "20      249\n",
              "21      446\n",
              "22      768\n",
              "23    1,651\n",
              "24      642\n",
              "Name: 이팝나무, dtype: object"
            ]
          },
          "metadata": {},
          "execution_count": 38
        }
      ]
    },
    {
      "cell_type": "markdown",
      "source": [
        "##### **Q1. `df_sub`의 row의 총 개수를 쓰세요.**"
      ],
      "metadata": {
        "id": "XgnucPhCjL1Q"
      }
    },
    {
      "cell_type": "code",
      "source": [
        "df_sub.shape[0]"
      ],
      "metadata": {
        "id": "k828GpfqWeK2",
        "colab": {
          "base_uri": "https://localhost:8080/"
        },
        "outputId": "081b95d5-c339-4071-e834-49fb8d20793e"
      },
      "execution_count": 41,
      "outputs": [
        {
          "output_type": "execute_result",
          "data": {
            "text/plain": [
              "25"
            ]
          },
          "metadata": {},
          "execution_count": 41
        }
      ]
    },
    {
      "cell_type": "markdown",
      "source": [
        "### **1-2. 데이터 타입 변환**\n",
        "- `이팝나무` column의 데이터 타입을 확인한 후, 적절한 데이터 타입으로 변환하세요.\n",
        "  - 적절한 데이터 타입으로 변환하기 위해 `.replace()` 함수를 활용해보세요."
      ],
      "metadata": {
        "id": "bnl8iMeCeafC"
      }
    },
    {
      "cell_type": "markdown",
      "source": [
        "##### **Q2. `이팝나무` column의 데이터 타입으로 적절한 것은 무엇인가요?**"
      ],
      "metadata": {
        "id": "IRWR7xTSjpt4"
      }
    },
    {
      "cell_type": "code",
      "source": [
        "df_sub = df_sub.replace(\",\",\"\").astype(int)"
      ],
      "metadata": {
        "id": "gOv4RxA8CQkV"
      },
      "execution_count": 47,
      "outputs": []
    },
    {
      "cell_type": "code",
      "source": [
        "df_sub.dtype"
      ],
      "metadata": {
        "colab": {
          "base_uri": "https://localhost:8080/"
        },
        "id": "g4nMyqv_YbOm",
        "outputId": "6effe3d1-3ee0-4f23-ffbc-7d53b8ca365d"
      },
      "execution_count": 48,
      "outputs": [
        {
          "output_type": "execute_result",
          "data": {
            "text/plain": [
              "dtype('int64')"
            ]
          },
          "metadata": {},
          "execution_count": 48
        }
      ]
    },
    {
      "cell_type": "markdown",
      "source": [
        "### **1-3. 표본 생성 및 가설 검정**\n",
        "- [`np.random.choice()`](https://numpy.org/doc/stable/reference/random/generated/numpy.random.choice.html)를 사용해 10개의 구의 `이팝나무` 데이터를 중복을 허용하여 추출합니다. \n",
        "    - `np.random.seed(123)`으로 설정하세요.\n",
        "- 서울시 구별 `이팝나무` 데이터를 모집단으로 가정하였을 때, 10개의 구를 추출한 `이팝나무` 수의 평균과 모집단의 평균을 비교하는 가설검정을 One-Sample T-test를 통해 시행하세요.      \n",
        "  - scipy 라이브러리의 [`.ttest_1samp()`](https://docs.scipy.org/doc/scipy/reference/generated/scipy.stats.ttest_1samp.html)을 사용합니다.\n",
        "- `.pvalue`를 사용하여 가설검정 결과의 P-value를 `pv1`에 저장하세요."
      ],
      "metadata": {
        "id": "V9hRAB-QBPrw"
      }
    },
    {
      "cell_type": "markdown",
      "source": [
        "##### **Q3. 모집단(서울시 구별 이팝나무 데이터)의 평균은 얼마인지 소수점 둘째 자리까지 구하세요.**"
      ],
      "metadata": {
        "id": "IzBWyg8kr0gu"
      }
    },
    {
      "cell_type": "code",
      "source": [
        "round(df_sub.mean(),2)"
      ],
      "metadata": {
        "id": "ni8TR-2DCVjm",
        "colab": {
          "base_uri": "https://localhost:8080/"
        },
        "outputId": "ea6b06c0-284e-4047-f871-d0d8b3b979c1"
      },
      "execution_count": 49,
      "outputs": [
        {
          "output_type": "execute_result",
          "data": {
            "text/plain": [
              "688.64"
            ]
          },
          "metadata": {},
          "execution_count": 49
        }
      ]
    },
    {
      "cell_type": "markdown",
      "source": [
        "##### **Q4. 표본(10개의 구를 추출한 이팝나무 데이터)의 평균은 얼마인지 소수점 첫째 자리까지 구하세요.**"
      ],
      "metadata": {
        "id": "bGMDsEsKr5Uc"
      }
    },
    {
      "cell_type": "code",
      "source": [
        "import random\n",
        "from scipy import stats\n",
        "\n",
        "np.random.seed(123)\n",
        "\n",
        "이팝나무_10 = np.random.choice(df_sub, 10, replace=True, p=None)"
      ],
      "metadata": {
        "id": "jgVSM26jCinR",
        "colab": {
          "base_uri": "https://localhost:8080/"
        },
        "outputId": "db267b35-cbad-4d3f-866d-d2a8b5ef9a8c"
      },
      "execution_count": 62,
      "outputs": [
        {
          "output_type": "execute_result",
          "data": {
            "text/plain": [
              "0.09699658599768855"
            ]
          },
          "metadata": {},
          "execution_count": 62
        }
      ]
    },
    {
      "cell_type": "code",
      "source": [
        "round(이팝나무_10.mean(),1)"
      ],
      "metadata": {
        "colab": {
          "base_uri": "https://localhost:8080/"
        },
        "id": "emEU8x7qd-tQ",
        "outputId": "5d38afda-9544-4d6c-dbb6-c0feda835a56"
      },
      "execution_count": 63,
      "outputs": [
        {
          "output_type": "execute_result",
          "data": {
            "text/plain": [
              "479.7"
            ]
          },
          "metadata": {},
          "execution_count": 63
        }
      ]
    },
    {
      "cell_type": "markdown",
      "source": [
        "##### **Q5. 가설 검정 결과 P-value를 해석한 것으로 알맞은 것은 무엇인가요?**\n",
        "- 서울시 구별 이팝나무 수의 평균과 10개의 구를 샘플링한 이팝나무 수의 평균은 다르다고 볼 수 없다. \n",
        "- 서울시 구별 이팝나무 수의 평균과 10개의 구를 샘플링한 이팝나무 수의 평균은 같다고 볼 수 없다. \n",
        "- 서울시 구별 이팝나무 수의 평균은 10개의 구를 샘플링한 이팝나무 수의 평균보다 크다. \n",
        "- 서울시 구별 이팝나무 수의 평균은 10개의 구를 샘플링한 이팝나무 수의 평균보다 작다. "
      ],
      "metadata": {
        "id": "C0iPS_imseYW"
      }
    },
    {
      "cell_type": "code",
      "source": [
        "이팝나무_mean =  df_sub.mean()\n",
        "resurt = stats.ttest_1samp(이팝나무_10, 이팝나무_mean)\n",
        "pv1 = resurt.pvalue\n",
        "pv1"
      ],
      "metadata": {
        "id": "ywPONxA5CmhZ",
        "colab": {
          "base_uri": "https://localhost:8080/"
        },
        "outputId": "e77f4f82-94e4-43be-f058-b0f0fc53935c"
      },
      "execution_count": 64,
      "outputs": [
        {
          "output_type": "execute_result",
          "data": {
            "text/plain": [
              "0.09699658599768855"
            ]
          },
          "metadata": {},
          "execution_count": 64
        }
      ]
    },
    {
      "cell_type": "markdown",
      "source": [
        "# **🥇 도전 과제**"
      ],
      "metadata": {
        "id": "zSVm5CcdNnEe"
      }
    },
    {
      "cell_type": "markdown",
      "source": [
        "## **Part 2. Two-Sample T-test**\n",
        "\n",
        "\n",
        "두 샘플의 평균값을 비교하는 검정 방법입니다. <br>\n",
        "이를 양측검정을 통해 시행하고자 한다면 귀무가설과 대립가설은 다음과 같이 세울 수 있습니다. \n",
        "\n",
        "$H_0$ : $\\mu_{sample1} = \\mu_{sample2}$\n",
        "\n",
        "$H_a$ : $\\mu_{sample1} ≠ \\mu_{sample2}$"
      ],
      "metadata": {
        "id": "fLCPDfHKxuw3"
      }
    },
    {
      "cell_type": "code",
      "source": [
        "# 아래의 코드를 실행해 주세요. 업그레이드 완료 후에는 런타임을 재시작해야 합니다. \n",
        "!pip install scipy --upgrade"
      ],
      "metadata": {
        "id": "vjg3WH0qxuw3"
      },
      "execution_count": null,
      "outputs": []
    },
    {
      "cell_type": "code",
      "source": [
        "# 버전 확인 \n",
        "import scipy\n",
        "\n",
        "scipy.__version__"
      ],
      "metadata": {
        "colab": {
          "base_uri": "https://localhost:8080/",
          "height": 36
        },
        "outputId": "9e273f79-d759-4f3e-8f43-7cfe9b9e1fd7",
        "id": "DH4hH6-Bxuw3"
      },
      "execution_count": null,
      "outputs": [
        {
          "output_type": "execute_result",
          "data": {
            "text/plain": [
              "'1.7.3'"
            ],
            "application/vnd.google.colaboratory.intrinsic+json": {
              "type": "string"
            }
          },
          "metadata": {},
          "execution_count": 34
        }
      ]
    },
    {
      "cell_type": "markdown",
      "source": [
        "### **2-1. 데이터셋 준비**\n",
        "- **`서울시`, `공원녹지사업소`, `시설관리공단` 데이터는 제외하세요.** \n",
        "- **`느티나무`, `왕벚나무` column만 추출하여 각각 `zelkova`과 `cherry`에 저장하세요.** "
      ],
      "metadata": {
        "id": "Pc84U5GgzFKH"
      }
    },
    {
      "cell_type": "code",
      "source": [
        "# 이곳에 코드를 작성하세요."
      ],
      "metadata": {
        "id": "B9f99li7Crlh"
      },
      "execution_count": null,
      "outputs": []
    },
    {
      "cell_type": "markdown",
      "source": [
        "### **2-2. 데이터 타입 변환**\n",
        "**`느티나무`, `왕벚나무` column의 데이터 타입을 `int`로 변환하세요.**"
      ],
      "metadata": {
        "id": "fS7qviyEzQ7p"
      }
    },
    {
      "cell_type": "code",
      "source": [
        "# 이곳에 코드를 작성하세요."
      ],
      "metadata": {
        "id": "iVpKwk-VCs3B"
      },
      "execution_count": null,
      "outputs": []
    },
    {
      "cell_type": "markdown",
      "source": [
        "### **2-3. 가설 검정**\n",
        "단측 검정(One-tailed test)을 사용하여 평균 `느티나무` 수와 평균 `왕벚나무` 수를 비교하는 가설검정을 시행하세요. (단, 서울시 구별 `느티나무` 및 `왕벚나무` 데이터는 표본입니다.) \n",
        "- **scipy 라이브러리의 [`.ttest_ind()`](https://docs.scipy.org/doc/scipy/reference/generated/scipy.stats.ttest_ind.html)를 사용합니다.**\n",
        "  - One-tailed test를 진행하기 위해서는 `alternative` 파라미터를 설정해야 합니다. \n",
        "- **'평균 느티나무 수가 왕벚나무 수보다 통계적으로 유의미하게 크다'는 가설검정 결과의 P-value를 `pv2`에 저장하세요.**\n",
        "   - 이에 알맞은 귀무가설과 대립가설을 설정합니다. \n",
        "- **'평균 왕벚나무 수가 느티나무 수보다 통계적으로 유의미하게 크다'는 가설검정 결과의 P-value를 `pv3`에 저장하세요.** \n",
        "  - 이에 알맞은 귀무가설과 대립가설을 설정합니다. \n",
        "- **평균 `느티나무` 수와 평균 `왕벚나무` 수를 비교하는 가설검정 결과를 `ans`에 저장하세요. 이때 `ans`는 다음 세 가지 중 하나입니다.** \n",
        "  - 느티나무 (평균 느티나무 수가 왕벚나무 수보다 통계적으로 유의하게 큰 경우)\n",
        "  - 왕벚나무 (평균 왕벚나무 수가 느티나무 수보다 통계적으로 유의하게 큰 경우)\n",
        "  - 같다. (통계적으로 유의미한 차이가 없다.) "
      ],
      "metadata": {
        "id": "L87xLozjfMX6"
      }
    },
    {
      "cell_type": "code",
      "source": [
        "# 이곳에 코드를 작성하세요."
      ],
      "metadata": {
        "id": "zBJvDtNQCxUG"
      },
      "execution_count": null,
      "outputs": []
    }
  ],
  "metadata": {
    "colab": {
      "provenance": [],
      "include_colab_link": true
    },
    "kernelspec": {
      "display_name": "Python 3",
      "name": "python3"
    },
    "language_info": {
      "name": "python"
    }
  },
  "nbformat": 4,
  "nbformat_minor": 0
}